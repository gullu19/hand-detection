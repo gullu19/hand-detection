{
 "cells": [
  {
   "cell_type": "code",
   "execution_count": 3,
   "id": "011c7b11",
   "metadata": {},
   "outputs": [],
   "source": [
    "import cv2\n",
    "import mediapipe as mp\n",
    "import time\n",
    "\n",
    "cap =cv2.VideoCapture(0)\n",
    "mpHands= mp.solutions.hands\n",
    "hand=mpHands.Hands()\n",
    "mpDraw=mp.solutions.drawing_utils\n",
    "\n",
    "\n",
    "pTime=0\n",
    "cTime=0\n",
    "while True:\n",
    "    success, img= cap.read()\n",
    "    \n",
    "    imgRGB= cv2.cvtColor(img, cv2.COLOR_BGR2RGB)\n",
    "    \n",
    "    results = hand.process(imgRGB)\n",
    "    \n",
    "    if results.multi_hand_landmarks:\n",
    "        for hndLMS in results.multi_hand_landmarks:\n",
    "            mpDraw.draw_landmarks(img, hndLMS, mpHands.HAND_CONNECTIONS)\n",
    "    cTime=time.time()\n",
    "    fps=1/(cTime - pTime)\n",
    "    pTime=cTime\n",
    "    \n",
    "    cv2.putText(img,str(int(fps)), (10,70), cv2.FONT_HERSHEY_PLAIN, 3, (255,0,255),3)\n",
    "    \n",
    "    cv2.imshow(\"Image\", img)\n",
    "    if cv2.waitKey(10) & 0xff == ord('q'):\n",
    "        break\n",
    "        \n",
    "cap.release()        \n",
    "cv2.destroyAllWindows()        \n",
    "            "
   ]
  }
 ],
 "metadata": {
  "kernelspec": {
   "display_name": "Python 3",
   "language": "python",
   "name": "python3"
  },
  "language_info": {
   "codemirror_mode": {
    "name": "ipython",
    "version": 3
   },
   "file_extension": ".py",
   "mimetype": "text/x-python",
   "name": "python",
   "nbconvert_exporter": "python",
   "pygments_lexer": "ipython3",
   "version": "3.8.8"
  }
 },
 "nbformat": 4,
 "nbformat_minor": 5
}
